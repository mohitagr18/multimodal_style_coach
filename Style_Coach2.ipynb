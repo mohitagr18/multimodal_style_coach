{
  "nbformat": 4,
  "nbformat_minor": 0,
  "metadata": {
    "colab": {
      "provenance": [],
      "authorship_tag": "ABX9TyN+f4p2Y7kqPqxltMupFZW3",
      "include_colab_link": true
    },
    "kernelspec": {
      "name": "python3",
      "display_name": "Python 3"
    },
    "language_info": {
      "name": "python"
    }
  },
  "cells": [
    {
      "cell_type": "markdown",
      "metadata": {
        "id": "view-in-github",
        "colab_type": "text"
      },
      "source": [
        "<a href=\"https://colab.research.google.com/github/mohitagr18/multimodal_style_coach/blob/main/Style_Coach2.ipynb\" target=\"_parent\"><img src=\"https://colab.research.google.com/assets/colab-badge.svg\" alt=\"Open In Colab\"/></a>"
      ]
    },
    {
      "cell_type": "code",
      "execution_count": null,
      "metadata": {
        "collapsed": true,
        "id": "hR12ObAvz3wH"
      },
      "outputs": [],
      "source": [
        "%pip install --upgrade google-adk"
      ]
    },
    {
      "cell_type": "markdown",
      "source": [
        "### The 5 Agents on the Team\n",
        "\n",
        "1.  **Style Coach Agent (The Manager):** The user-facing agent that coordinates the entire team.\n",
        "2.  **Input Analysis Agent (The Specialist):** An expert in understanding and deconstructing images.\n",
        "3.  **Trend Research Agent (The Consultant):** Uses Google Search to understand abstract styles and current trends.\n",
        "4.  **Mercari Search Agent (The Worker):** The retrieval expert that runs targeted searches on the product database.\n",
        "5.  **Styling & Reasoning Agent (The Creative):** The fashion expert that assembles outfits and explains the style choices.\n",
        "\n",
        "***\n"
      ],
      "metadata": {
        "id": "3CEgeyjv-SbC"
      }
    },
    {
      "cell_type": "markdown",
      "source": [
        "\n",
        "## Full Workflow Example\n",
        "\n",
        "**Scenario:** A user uploads a photo of a vintage-looking brown leather jacket and asks the `Style Coach Agent`:\n",
        "\n",
        "> **\"I just thrifted this jacket. Can you help me style an outfit around it for a rock concert this fall?\"**\n",
        "\n",
        "---\n",
        "#### Step 1: The Manager Receives the Request\n",
        "\n",
        "The **`Style Coach Agent`** receives the combined input (image + text). It knows it can't handle this alone and begins to delegate.\n",
        "\n",
        "---\n",
        "#### Step 2: The Specialist Analyzes the Image\n",
        "\n",
        "The `Style Coach Agent` first needs to understand the core item. It sends the uploaded image to the **`Input Analysis Agent`**.\n",
        "\n",
        "* **Action:** The `Input Analysis Agent` processes the image using multimodal models.\n",
        "* **Output:** It returns a structured description back to the manager:\n",
        "    > `{ \"item\": \"leather jacket\", \"style\": \"vintage, bomber\", \"color\": \"dark brown\" }`\n",
        "\n",
        "---\n",
        "#### Step 3: The Consultant Researches the Vibe\n",
        "\n",
        "Now the `Style Coach Agent` understands the jacket. Next, it needs to understand the *vibe* of a \"rock concert this fall.\" It sends this query to the **`Trend Research Agent`**.\n",
        "\n",
        "* **Action:** The `Trend Research Agent` uses the **Google Search tool** to find articles and images about current fall concert fashion and rock aesthetics.\n",
        "* **Output:** It returns a concise summary back to the manager:\n",
        "    > *\"Fall concert style is currently blending 90s grunge with classic rock elements. Key complementary items include vintage band t-shirts, dark wash or black distressed denim, and chunky leather boots like Doc Martens.\"*\n",
        "\n",
        "---\n",
        "#### Step 4: The Worker Finds the Pieces\n",
        "\n",
        "The `Style Coach Agent` now has a complete shopping list. It commands the **`Mercari Search Agent`** to find the necessary pieces in the product database.\n",
        "\n",
        "* **Action:** The `Mercari Search Agent` performs several targeted vector searches based on the combined information:\n",
        "    1.  A search for a visually similar **vintage band t-shirt**.\n",
        "    2.  A search for **black distressed denim jeans** with text descriptions matching \"90s\" or \"grunge.\"\n",
        "    3.  A search for **chunky leather boots** visually similar to Doc Martens.\n",
        "* **Output:** It returns a list of the top 3-5 matching items for each category.\n",
        "\n",
        "---\n",
        "#### Step 5: The Creative Assembles the Look\n",
        "\n",
        "The `Style Coach Agent` takes the user's original jacket and the pool of items found by the worker and hands it all to the final expert, the **`Styling & Reasoning Agent`**.\n",
        "\n",
        "* **Action:** This agent uses its advanced LLM capabilities to mix and match the items into a coherent outfit. It selects the best-fitting t-shirt, jeans, and boots to go with the jacket.\n",
        "* **Output:** It generates a complete, styled look with a detailed explanation:\n",
        "    > **Look 1: 90s Grunge Rock**\n",
        "    > * **Your Jacket:** The brown leather jacket is the perfect centerpiece.\n",
        "    > * **Top:** I've paired it with this faded Nirvana band t-shirt to lean into the 90s grunge theme.\n",
        "    > * **Bottoms:** These black distressed jeans create a slim silhouette that contrasts well with the bulkier jacket.\n",
        "    > * **Shoes:** To complete the look, these chunky platform boots give you an authentic rock concert feel and are comfortable enough for standing.\n",
        "\n",
        "---\n",
        "#### Step 6: The Manager Presents the Final Result\n",
        "\n",
        "The `Style Coach Agent` receives the beautifully formatted output from the `Styling & Reasoning Agent` and presents it as the final, polished answer to the user. This completes the workflow."
      ],
      "metadata": {
        "id": "JvUQAgjB-WlO"
      }
    },
    {
      "cell_type": "code",
      "source": [],
      "metadata": {
        "id": "e9SahEfY-V3v"
      },
      "execution_count": null,
      "outputs": []
    },
    {
      "cell_type": "markdown",
      "source": [
        "## Environment Setup"
      ],
      "metadata": {
        "id": "x-L9U6wh21Kn"
      }
    },
    {
      "cell_type": "code",
      "source": [
        "# Import necessary libraries\n",
        "import os\n",
        "import logging\n",
        "import asyncio\n",
        "import json\n",
        "from typing import List\n",
        "from google.adk.agents import Agent\n",
        "from google.adk.runners import Runner\n",
        "from google.adk.sessions import  InMemorySessionService\n",
        "from google.adk.tools.agent_tool import AgentTool\n",
        "from google.adk.tools import google_search\n",
        "from google.genai import types\n",
        "\n",
        "# Ignore warnings from ADK and Gemini APIs\n",
        "logging.getLogger(\"google.adk.runners\").setLevel(logging.ERROR)\n",
        "logging.getLogger(\"google_genai.types\").setLevel(logging.ERROR)"
      ],
      "metadata": {
        "id": "RptxXZB10qwE"
      },
      "execution_count": 1,
      "outputs": []
    },
    {
      "cell_type": "code",
      "source": [
        "from google.colab import userdata\n",
        "\n",
        "# Retrieve the secret key from Colab's secrets manager\n",
        "my_api_key = userdata.get('GOOGLE_API_KEY')\n",
        "\n",
        "# Set the environment variable using the retrieved secret\n",
        "os.environ[\"GOOGLE_API_KEY\"] = my_api_key\n",
        "\n",
        "\n",
        "# Set environment variables required for running ADK (with Gemini API Key)\n",
        "os.environ[\"GOOGLE_GENAI_USE_VERTEXAI\"] = \"False\"\n",
        "\n"
      ],
      "metadata": {
        "id": "EhDJPP9K1EqU"
      },
      "execution_count": 2,
      "outputs": []
    },
    {
      "cell_type": "code",
      "metadata": {
        "colab": {
          "base_uri": "https://localhost:8080/"
        },
        "id": "64df28d0",
        "outputId": "1c70bbba-86fd-4404-88f7-9c1795e7f355"
      },
      "source": [
        "from google.colab import drive\n",
        "drive.mount('/content/drive')"
      ],
      "execution_count": 3,
      "outputs": [
        {
          "output_type": "stream",
          "name": "stdout",
          "text": [
            "Mounted at /content/drive\n"
          ]
        }
      ]
    },
    {
      "cell_type": "code",
      "metadata": {
        "colab": {
          "base_uri": "https://localhost:8080/",
          "height": 1000
        },
        "collapsed": true,
        "id": "0eb6a387",
        "outputId": "a652e3d2-ab49-429f-a3ad-afd9daeceb12"
      },
      "source": [
        "from IPython.display import Image, display\n",
        "\n",
        "# Define the path to your image in Google Drive\n",
        "image_path = '/content/drive/My Drive/Colab Notebooks/images/test_img1.jpg'\n",
        "\n",
        "# Display the image\n",
        "try:\n",
        "    display(Image(filename=image_path))\n",
        "except FileNotFoundError:\n",
        "    print(f\"Error: Image file not found at {image_path}\")\n",
        "except Exception as e:\n",
        "    print(f\"An error occurred: {e}\")"
      ],
      "execution_count": 4,
      "outputs": [
        {
          "output_type": "display_data",
          "data": {
            "image/jpeg": "[encoded data removed]",
            "text/plain": [
              "<IPython.core.display.Image object>"
            ]
          },
          "metadata": {}
        }
      ]
    },
    {
      "cell_type": "markdown",
      "source": [
        "## Create Testing Agent\n",
        "\n",
        "For testing the agents we will build, we need to define a function test_agent that uses Runner and SessionService to emulate an agent runtime environment. To learn more about the agent runtime, see the Agent Runtime doc."
      ],
      "metadata": {
        "id": "U0tvRkY32-qS"
      }
    },
    {
      "cell_type": "code",
      "source": [
        "import pathlib\n",
        "\n",
        "# Define the app_name and user_id for testing the agents\n",
        "APP_NAME = \"style_coach_app\"\n",
        "USER_ID = \"user_1\"\n",
        "session_service = InMemorySessionService()\n",
        "\n",
        "async def test_agent(\n",
        "    agent,\n",
        "    query: str | None = None,\n",
        "    image_path: str | None = None,\n",
        "):\n",
        "    \"\"\"Sends a text query and/or an image to the agent and prints the response.\"\"\"\n",
        "\n",
        "    if not query and not image_path:\n",
        "        print(\"Error: Please provide a text query or an image path.\")\n",
        "        return\n",
        "\n",
        "    # Build a list of parts for the user's message\n",
        "    parts = []\n",
        "    log_display = \"\"\n",
        "    if query:\n",
        "        parts.append(types.Part(text=query))\n",
        "        log_display += f\"Query: '{query}'\"\n",
        "    if image_path:\n",
        "        img = pathlib.Path(image_path)\n",
        "        if not img.exists():\n",
        "            print(f\"Error: Image file not found at {image_path}\")\n",
        "            return\n",
        "\n",
        "        # Create an image part from the file path\n",
        "        image_part = types.Part(\n",
        "            inline_data=types.Blob(\n",
        "                mime_type=\"image/jpeg\",  # Or other appropriate mime type\n",
        "                data=img.read_bytes(),\n",
        "            )\n",
        "        )\n",
        "        parts.append(image_part)\n",
        "        log_display += f\" | Image: '{image_path}'\"\n",
        "\n",
        "    print(f\"\\n>>> User Input: {log_display.strip()}\")\n",
        "\n",
        "    # Create a session\n",
        "    session = await session_service.create_session(\n",
        "      app_name=APP_NAME,\n",
        "      user_id=USER_ID,\n",
        "    )\n",
        "\n",
        "    # Create a Runner\n",
        "    runner = Runner(\n",
        "        app_name=APP_NAME,\n",
        "        agent=agent,\n",
        "        session_service=session_service,\n",
        "    )\n",
        "\n",
        "    # Prepare the user's message with all parts\n",
        "    content = types.Content(role=\"user\", parts=parts)\n",
        "\n",
        "    final_response_text = None\n",
        "    # We iterate through events from run_async to find the final answer.\n",
        "    async for event in runner.run_async(\n",
        "        user_id=USER_ID, session_id=session.id, new_message=content\n",
        "    ):\n",
        "        if event.is_final_response():\n",
        "            if event.content and event.content.parts:\n",
        "                final_response_text = event.content.parts[0].text\n",
        "            break\n",
        "    # Find the final response text...\n",
        "    final_response_text = None\n",
        "    async for event in runner.run_async(\n",
        "        user_id=USER_ID, session_id=session.id, new_message=content):\n",
        "        if event.is_final_response():\n",
        "            if event.content and event.content.parts:\n",
        "                final_response_text = event.content.parts[0].text\n",
        "            break\n",
        "\n",
        "    # --- NEW, STRUCTURED OUTPUT ---\n",
        "    print(\"\\n\" + \"=\"*50)\n",
        "    print(\"✨ Your Styling Results ✨\")\n",
        "    print(\"=\"*50)\n",
        "\n",
        "    print(f\"\\n**Your question:**\\n> {log_display.strip()}\")\n",
        "\n",
        "    print(f\"\\n**Agent's response:**\")\n",
        "    if final_response_text:\n",
        "        # Add a markdown blockquote '>' to each line for clean wrapping\n",
        "        formatted_response = \"\\n\".join(\n",
        "            [f\"> {line}\" for line in final_response_text.split('\\n')]\n",
        "            )\n",
        "        print(formatted_response)\n",
        "    else:\n",
        "        print(\"> The agent did not generate a response.\")\n",
        "    print(\"=\"*50)"
      ],
      "metadata": {
        "id": "YHvTWVu3188E"
      },
      "execution_count": 9,
      "outputs": []
    },
    {
      "cell_type": "markdown",
      "source": [],
      "metadata": {
        "id": "xWsMnMHNxhon"
      }
    },
    {
      "cell_type": "markdown",
      "source": [
        "| **Agent**                 | **Description**                                                                                                                                                                                          |\n",
        "|---------------------------|----------------------------------------------------------------------------------------------------------------------------------------------------------------------------------------------------------|\n",
        "| Style Coach Agent         | This is the main, user-facing agent that orchestrates the entire process and manages the conversation. Its role is identical to the original Shop Agent.                                                 |\n",
        "| Trend Research Agent      | This agent's function is to use an external tool (Google Search) to gather real-world, up-to-date context to better understand a user's vague request.                                                   |\n",
        "| Input Analysis Agent      | This is a specialized agent required for the Style Coach's advanced multimodal capabilities. Its sole job is to interpret and deconstruct image inputs, which was not a feature of the original example. |\n",
        "| Mercari Search Agent      | This is a dedicated, more powerful agent responsible for crafting and executing sophisticated vector searches on the product database.                                                                   |\n",
        "| Styling & Reasoning Agent | This agent adds a crucial reasoning layer that assembles those items into complete, styled outfits and explains why they work together, embodying the \"coach\" role.                                      |"
      ],
      "metadata": {
        "id": "NeYWPxdEuxMA"
      }
    },
    {
      "cell_type": "markdown",
      "source": [
        "## Shop Agent"
      ],
      "metadata": {
        "id": "85b45A2_3fLb"
      }
    },
    {
      "cell_type": "code",
      "source": [
        "def item_search_tool(query: str) -> str:\n",
        "    \"\"\"Searches a secondhand marketplace for clothing items based on a query.\n",
        "\n",
        "    Args:\n",
        "        query: A descriptive search query for a clothing item.\n",
        "               Example: \"vintage leather jacket\"\n",
        "    \"\"\"\n",
        "    print(f\"DEBUG: item_search_tool was called with query: '{query}'\")\n",
        "\n",
        "    # This is our placeholder data, simulating a real database call.\n",
        "    mock_items = {\n",
        "        \"items\": [\n",
        "            {\n",
        "                \"id\": \"123\",\n",
        "                \"name\": \"Vintage Distressed Leather Jacket\",\n",
        "                \"description\": (\"A perfect 90s-style leather jacket with a \"\n",
        "                                \"worn-in feel. Great for a grunge or rockstar look.\"),\n",
        "                \"price\": \"85.00\",\n",
        "                \"category\": \"Outerwear\"\n",
        "            },\n",
        "            {\n",
        "                \"id\": \"456\",\n",
        "                \"name\": \"Classic Plaid Mini Skirt\",\n",
        "                \"description\": (\"A red and black plaid skirt. A staple for any \"\n",
        "                                \"alternative or preppy wardrobe.\"),\n",
        "                \"price\": \"25.00\",\n",
        "                \"category\": \"Skirts\"\n",
        "            }\n",
        "        ]\n",
        "    }\n",
        "    return json.dumps(mock_items)"
      ],
      "metadata": {
        "id": "9yhaie70839o"
      },
      "execution_count": 10,
      "outputs": []
    },
    {
      "cell_type": "code",
      "source": [
        "# Define the core instructions for the agent in a variable.\n",
        "instruction = f'''\n",
        "You are a shopper's concierge. Your goal is to help a user find clothes\n",
        "by following these steps for any style-based or vague request:\n",
        "\n",
        "1.  First, call the `TrendResearchAgent` with the user's query to get a\n",
        "    list of exactly 5 specific search queries.\n",
        "\n",
        "2.  Second, take the entire list of 5 queries you received and immediately\n",
        "    pass it to the `item_search_tool` to find relevant items.\n",
        "\n",
        "3.  Finally, present the items you found to the user in a friendly and\n",
        "    helpful way with item's name, description and the image url.\n",
        "'''\n",
        "\n",
        "# Create the agent instance using the Agent class constructor.\n",
        "style_coach_agent = Agent(\n",
        "    model='gemini-2.5-flash',  # Using a modern Gemini model\n",
        "    name='StyleCoachAgent',\n",
        "    description=(\n",
        "        'A conversational agent that acts as a personal stylist for secondhand fashion.'\n",
        "    ),\n",
        "    instruction=instruction,\n",
        "    tools=[item_search_tool]  # Pass the tool function in a list.\n",
        ")"
      ],
      "metadata": {
        "id": "TvkhVX0p8360"
      },
      "execution_count": 11,
      "outputs": []
    },
    {
      "cell_type": "code",
      "source": [
        "await test_agent(agent=style_coach_agent,\n",
        "        query=\"Can you find a vintage leather jacket for me?\")"
      ],
      "metadata": {
        "colab": {
          "base_uri": "https://localhost:8080/"
        },
        "id": "AjdMHfDQ2KJK",
        "outputId": "4b1f7f62-28dd-4118-bfd9-1d08b0ed3d71"
      },
      "execution_count": 12,
      "outputs": [
        {
          "output_type": "stream",
          "name": "stdout",
          "text": [
            "\n",
            ">>> User Input: Query: 'Can you find a vintage leather jacket for me?'\n",
            "DEBUG: item_search_tool was called with query: 'vintage leather jacket'\n",
            "DEBUG: item_search_tool was called with query: 'vintage leather jacket'\n",
            "\n",
            "==================================================\n",
            "✨ Your Styling Results ✨\n",
            "==================================================\n",
            "\n",
            "**Your question:**\n",
            "> Query: 'Can you find a vintage leather jacket for me?'\n",
            "\n",
            "**Agent's response:**\n",
            "> Here is a vintage leather jacket I found for you:\n",
            "> \n",
            "> **Vintage Distressed Leather Jacket**\n",
            "> A perfect 90s-style leather jacket with a worn-in feel. Great for a grunge or rockstar look.\n",
            "==================================================\n"
          ]
        }
      ]
    },
    {
      "cell_type": "markdown",
      "source": [
        "## Trend Research Agent\n",
        "\n",
        "This is a specialized agent whose only job is to understand current fashion trends. When a user asks a broad or style-focused question like, \"What's in style for this fall?\" or \"Help me find a 'cottagecore' outfit,\" our main agent isn't equipped to answer that directly.\n",
        "\n",
        "Instead, the `StyleCoachAgent` will delegate that task to the `TrendResearchAgent`. This new agent will use **Google Search** to find relevant articles, blog posts, and images to understand the trend. It will then pass a summary or a list of key clothing items back to the main agent.\n",
        "\n",
        "This multi-agent approach makes our system much smarter and more scalable. Each agent has one job and does it well. 🤖"
      ],
      "metadata": {
        "id": "ylJS8lIu6Opf"
      }
    },
    {
      "cell_type": "code",
      "source": [
        "# 1. Define the instructions for the new agent.\n",
        "# These are very specific to its single task: research.\n",
        "research_instruction = f'''\n",
        "You are a fashion market researcher. Your goal is to understand a\n",
        "user's style query and produce a JSON object with two things: a brief\n",
        "summary of the style, and a list of 5 specific search queries.\n",
        "\n",
        "Your output MUST be a single, valid JSON object with two keys:\n",
        "1.  \"summary\": A one or two-sentence summary of the style.\n",
        "2.  \"queries\": A list of 5 specific, actionable search query strings.\n",
        "\n",
        "Example user query: \"What is cottagecore style?\"\n",
        "Your expected output:\n",
        "{{\n",
        "    \"summary\": \"Cottagecore is a romanticized aesthetic of rural life, focusing on natural fabrics, floral prints, and comfortable, flowing silhouettes.\",\n",
        "    \"queries\": [\n",
        "        \"flowy floral midi dress\",\n",
        "        \"puff sleeve blouse\",\n",
        "        \"knit cardigan\",\n",
        "        \"tiered linen skirt\",\n",
        "        \"simple leather sandals\"\n",
        "    ]\n",
        "}}\n",
        "'''\n",
        "\n",
        "# 2. Create the TrendResearchAgent instance.\n",
        "trend_research_agent = Agent(\n",
        "    model='gemini-2.5-flash',\n",
        "    name='TrendResearchAgent',\n",
        "    description=(\n",
        "        'Researches fashion trends using Google Search to understand styles, '\n",
        "        'aesthetics, and key clothing items.'\n",
        "    ),\n",
        "    instruction=research_instruction,\n",
        "    tools=[google_search] # Give the agent access to the Google Search tool.\n",
        ")\n",
        "\n",
        "print(\"✅ TrendResearchAgent has been defined.\")\n",
        "print(f\"   - Name: {trend_research_agent.name}\")\n",
        "print(f\"   - Tools: {[tool.name for tool in trend_research_agent.tools]}\")"
      ],
      "metadata": {
        "colab": {
          "base_uri": "https://localhost:8080/"
        },
        "id": "4LNsF0Rl2KGq",
        "outputId": "ed85c478-a5c0-4eae-ebd4-82659a5a0196"
      },
      "execution_count": 13,
      "outputs": [
        {
          "output_type": "stream",
          "name": "stdout",
          "text": [
            "✅ TrendResearchAgent has been defined.\n",
            "   - Name: TrendResearchAgent\n",
            "   - Tools: ['google_search']\n"
          ]
        }
      ]
    },
    {
      "cell_type": "markdown",
      "source": [
        "### The `AgentTool` Wrapper 🔧\n",
        "To use one agent as a tool for another, you can't just pass the agent object directly. You must wrap it in the `AgentTool` class. This wrapper officially adapts the agent so that it can be correctly interpreted and called from within another agent's toolset.\n",
        "\n"
      ],
      "metadata": {
        "id": "gWGiWguL5TPY"
      }
    },
    {
      "cell_type": "code",
      "source": [
        "style_coach_agent = Agent(\n",
        "    model='gemini-2.5-flash',\n",
        "    name='StyleCoachAgent',\n",
        "    description=(\n",
        "        'A conversational agent that acts as a personal stylist for secondhand fashion.'\n",
        "    ),\n",
        "    instruction=instruction,\n",
        "    tools=[\n",
        "        item_search_tool,\n",
        "        AgentTool(agent=trend_research_agent)  # <-- Correctly wrapped in AgentTool\n",
        "    ]\n",
        ")\n",
        "\n",
        "print(\"✅ style_coach_agent has been correctly updated.\")\n",
        "# print(f\"   - New Tools: {[tool.name for tool in style_coach_agent.tools]}\")"
      ],
      "metadata": {
        "colab": {
          "base_uri": "https://localhost:8080/"
        },
        "id": "vezKRSBD2KEK",
        "outputId": "155a7a3a-c279-4893-b3c1-af565f321d90"
      },
      "execution_count": 14,
      "outputs": [
        {
          "output_type": "stream",
          "name": "stdout",
          "text": [
            "✅ style_coach_agent has been correctly updated.\n"
          ]
        }
      ]
    },
    {
      "cell_type": "code",
      "source": [
        "await test_agent(agent=style_coach_agent,\n",
        "        query=\"What is the 'cottagecore' aesthetic?\")"
      ],
      "metadata": {
        "colab": {
          "base_uri": "https://localhost:8080/"
        },
        "id": "PupIhfz82KBq",
        "outputId": "adf3e5ec-1147-4384-e203-feebecaafeda"
      },
      "execution_count": 15,
      "outputs": [
        {
          "output_type": "stream",
          "name": "stdout",
          "text": [
            "\n",
            ">>> User Input: Query: 'What is the 'cottagecore' aesthetic?'\n",
            "DEBUG: item_search_tool was called with query: 'flowy floral midi dress puff sleeves, linen peasant blouse embroidered, tiered gingham maxi skirt, oversized knit cardigan natural fibers, pinafore dress cotton linen'\n",
            "DEBUG: item_search_tool was called with query: 'flowy floral maxi dress, puff sleeve linen blouse, knit cardigan natural fibers, tiered midi skirt with ruffles, prairie style sundress'\n",
            "\n",
            "==================================================\n",
            "✨ Your Styling Results ✨\n",
            "==================================================\n",
            "\n",
            "**Your question:**\n",
            "> Query: 'What is the 'cottagecore' aesthetic?'\n",
            "\n",
            "**Agent's response:**\n",
            "> I apologize, it seems like the search tool is still returning items that don't quite fit the 'cottagecore' aesthetic. I'm having trouble finding relevant items with the current search capabilities.\n",
            "> \n",
            "> The items I found are:\n",
            "> \n",
            "> **Vintage Distressed Leather Jacket**\n",
            "> A perfect 90s-style leather jacket with a worn-in feel. Great for a grunge or rockstar look.\n",
            "> \n",
            "> **Classic Plaid Mini Skirt**\n",
            "> A red and black plaid skirt. A staple for any alternative or preppy wardrobe.\n",
            "> \n",
            "> These don't match the flowy, natural, and floral elements of cottagecore. Is there anything else I can help you with?\n",
            "==================================================\n"
          ]
        }
      ]
    },
    {
      "cell_type": "code",
      "source": [
        "await test_agent(agent=style_coach_agent,\n",
        "        query=\"What jacket should I wear with a Kurta for a diwali function?\")"
      ],
      "metadata": {
        "id": "aEOQrK-K2J-2"
      },
      "execution_count": null,
      "outputs": []
    },
    {
      "cell_type": "markdown",
      "source": [
        "## Step 1: The Low-Level `call_vector_search` Utility\n",
        "\n",
        "With the basic agent above, we would like to add an item search capability. To achieve this, here we define a function call_query_api that sends an HTTP request to a REST endpoint provided by the Vector Search Interactive demo. For the detail of each parameter sent to the endpoint, refer to the demo page."
      ],
      "metadata": {
        "id": "-iNO3L-2EbU_"
      }
    },
    {
      "cell_type": "code",
      "source": [
        "import requests\n",
        "import json\n",
        "\n",
        "def call_vector_search(url: str, query: str, rows: int = 3) -> dict | None:\n",
        "    \"\"\"\n",
        "    Calls a custom Vector Search backend API for querying.\n",
        "\n",
        "    Args:\n",
        "        url: The URL of the search endpoint.\n",
        "        query: The query string.\n",
        "        rows: The number of result rows to return.\n",
        "\n",
        "    Returns:\n",
        "        A dictionary from the API's JSON response, or None on error.\n",
        "    \"\"\"\n",
        "    headers = {'Content-Type': 'application/json'}\n",
        "    # This payload is specific to the custom API endpoint in the tutorial.\n",
        "    payload = {\n",
        "        \"query\": query,\n",
        "        \"rows\": rows,\n",
        "        \"dataset_id\": \"mercari3m_mm\",\n",
        "        \"use_dense\": True,\n",
        "        \"use_sparse\": True,\n",
        "        \"rrf_alpha\": 0.5,\n",
        "        \"use_rerank\": True,\n",
        "    }\n",
        "\n",
        "    try:\n",
        "        response = requests.post(url, headers=headers, data=json.dumps(payload))\n",
        "        response.raise_for_status()  # Raise an exception for bad status codes\n",
        "        return response.json()\n",
        "    except requests.exceptions.RequestException as e:\n",
        "        print(f\"Error calling the search API: {e}\")\n",
        "        return None"
      ],
      "metadata": {
        "id": "Vc0I1qiZ2J8W"
      },
      "execution_count": 16,
      "outputs": []
    },
    {
      "cell_type": "code",
      "source": [
        "\n",
        "# This is the specific API endpoint used in the tutorial.\n",
        "SEARCH_API_URL = \"https://www.ac0.cloudadvocacyorg.joonix.net/api/query\"\n",
        "\n",
        "def item_search_tool(queries: List[str]) -> str:\n",
        "    \"\"\"\n",
        "    Finds fashion items by running a list of search queries against the\n",
        "    secondhand marketplace vector database.\n",
        "\n",
        "    Args:\n",
        "        queries: A list of descriptive search queries to run.\n",
        "                 Example: [\"crochet top\", \"wide-leg denim pants\"]\n",
        "    \"\"\"\n",
        "    items = []\n",
        "    for query in queries:\n",
        "        result = call_vector_search(\n",
        "            url=SEARCH_API_URL,\n",
        "            query=query,\n",
        "            rows=3,  # Find 3 items per query\n",
        "        )\n",
        "        if result and \"items\" in result:\n",
        "            items.extend(result[\"items\"])\n",
        "\n",
        "    print(\"-----\")\n",
        "    print(f\"User queries: {queries}\")\n",
        "    print(f\"Found: {len(items)} items\")\n",
        "    print(\"-----\")\n",
        "\n",
        "    # Return the final list of found items as a JSON string.\n",
        "    return json.dumps({\"items\": items})"
      ],
      "metadata": {
        "id": "dn3-vle02J5i"
      },
      "execution_count": 17,
      "outputs": []
    },
    {
      "cell_type": "code",
      "source": [
        "# Define the core instructions for the agent in a variable.\n",
        "instruction = f'''\n",
        "You are a shopper's concierge. Your goal is to help a user find clothes\n",
        "by following these steps:\n",
        "\n",
        "1.  First, call the `TrendResearchAgent` to get a JSON object that\n",
        "    contains a \"summary\" and a list of \"queries\".\n",
        "\n",
        "2.  Second, take ONLY the \"queries\" list from that JSON object and pass\n",
        "    it to the `item_search_tool`.\n",
        "\n",
        "3.  Finally, formulate a response to the user. Start your response with\n",
        "    the \"summary\" you received in Step 1. Then, present the items\n",
        "    you found in Step 2.\n",
        "'''\n",
        "\n",
        "# Create the agent instance using the Agent class constructor.\n",
        "style_coach_agent = Agent(\n",
        "    model='gemini-2.5-flash',  # Using a modern Gemini model\n",
        "    name='StyleCoachAgent',\n",
        "    description=(\n",
        "        'A conversational agent that acts as a personal stylist for secondhand fashion.'\n",
        "    ),\n",
        "    instruction=instruction,\n",
        "    tools=[item_search_tool]  # Pass the tool function in a list.\n",
        ")"
      ],
      "metadata": {
        "id": "qtD3pm10Yhr1"
      },
      "execution_count": 18,
      "outputs": []
    },
    {
      "cell_type": "code",
      "source": [
        "await test_agent(\n",
        "        agent=style_coach_agent,\n",
        "        query=\"What are the key items for a 'cottagecore' aesthetic?\"\n",
        "    )"
      ],
      "metadata": {
        "colab": {
          "base_uri": "https://localhost:8080/"
        },
        "id": "dWEYUcy92J20",
        "outputId": "881f7984-4c03-4f6f-dcc8-459e0c6d1607"
      },
      "execution_count": 19,
      "outputs": [
        {
          "output_type": "stream",
          "name": "stdout",
          "text": [
            "\n",
            ">>> User Input: Query: 'What are the key items for a 'cottagecore' aesthetic?'\n",
            "-----\n",
            "User queries: ['floral print dresses', 'puff sleeve blouses', 'smock dresses', 'gingham skirts', 'embroidered cardigans', 'basket bags', 'mary jane shoes']\n",
            "Found: 21 items\n",
            "-----\n",
            "\n",
            "==================================================\n",
            "✨ Your Styling Results ✨\n",
            "==================================================\n",
            "\n",
            "**Your question:**\n",
            "> Query: 'What are the key items for a 'cottagecore' aesthetic?'\n",
            "\n",
            "**Agent's response:**\n",
            "> Cottagecore is an aesthetic inspired by a romanticized interpretation of Western agricultural life. It centers on ideas of simple living, harmony with nature, and traditional skills. Key fashion elements often include floral prints, natural fabrics, and silhouettes that evoke a rustic, whimsical feel.\n",
            "> \n",
            "> Here are some items I found that fit the cottagecore aesthetic:\n",
            "> \n",
            "> *   **Floral Print Dresses**:\n",
            ">     *   \"floral dresses\" - New brand condition size M - [https://www.mercari.com/us/item/m89177291784](https://www.mercari.com/us/item/m89177291784)\n",
            ">     *   \"NEW Veronica Beard Corsica Silk Midi Dress Floral Navy Size 0\" - New with tag - [https://www.mercari.com/us/item/m48301343239](https://www.mercari.com/us/item/m48301343239)\n",
            ">     *   \"FAITHFULL THE BRAND Jean Marie Midi Dress in Jolene Print Large New Nwt Women's\" - New Without Tags - [https://www.mercari.com/us/item/m76142302611](https://www.mercari.com/us/item/m76142302611)\n",
            "> \n",
            "> *   **Puff Sleeve Blouses**:\n",
            ">     *   \"3 long sleeve bundle\" - Long sleeve blouses size M - [https://www.mercari.com/us/item/m15007336359](https://www.mercari.com/us/item/m15007336359)\n",
            ">     *   \"UNCUT Simplicity 6706 Size 18-20 Factory Folded Sewing Blouse Pattern\" - Uncut with instructions. Envelope shows wear, no odors. Pattern is factory folded. Vintage from 1984. - [https://www.mercari.com/us/item/m68341663387](https://www.mercari.com/us/item/m68341663387)\n",
            ">     *   \"Express Balloon sleeve top Medium\" - Light tan color, Perfect for fall, Slight cropped in the front, Buttons down - [https://www.mercari.com/us/item/m17012917891](https://www.mercari.com/us/item/m17012917891)\n",
            "> \n",
            "> *   **Smock Dresses**:\n",
            ">     *   \"Lola May Petite shirred bust midi smock dress in polka dot NWT Size UK 12\" - Smocked Blush polka dot dress by Lola May, Square neck, Shirred-stretch top, US Size 8. UK size 12 NWT - [https://www.mercari.com/us/item/m61466741020](https://www.mercari.com/us/item/m61466741020)\n",
            ">     *   \"NWOT Plaid Smock Dress sz Large\" - large smock dress, nwot, negotiable, feel free to bundle - [https://www.mercari.com/us/item/m22326087211](https://www.mercari.com/us/item/m22326087211)\n",
            "> \n",
            "> *   **Gingham Skirts**:\n",
            ">     *   \"Skirts\" - Skirts size L like new - [https://www.mercari.com/us/item/m23285988706](https://www.mercari.com/us/item/m23285988706)\n",
            ">     *   \"Midi Skirt\" - Talbots checkered skirt, worn ones, in excellent condition. S(p). You can wear this in small or small petite. Paid $70 - [https://www.mercari.com/us/item/m36069318808](https://www.mercari.com/us/item/m36069318808)\n",
            ">     *   \"skirts\" - this skirts is brand new - [https://www.mercari.com/us/item/m25768964602](https://www.mercari.com/us/item/m25768964602)\n",
            "> \n",
            "> *   **Embroidered Cardigans**:\n",
            ">     *   \"bundle of women clothes\" - Pants tops cardigans dresses size L - [https://www.mercari.com/us/item/m48242124607](https://www.mercari.com/us/item/m48242124607)\n",
            ">     *   \"Lucky Brand Vintage Y2K Bird Floral Button Cardigan\" - In great, clean condition! Rare piece (K-12) - [https://www.mercari.com/us/item/m97350175162](https://www.mercari.com/us/item/m97350175162)\n",
            ">     *   \"Womens 3 Piece Clothing Bundle size XS\" - This bundle includes 2 cardigans and a pair leggings. - [https://www.mercari.com/us/item/m61617059646](https://www.mercari.com/us/item/m61617059646)\n",
            "> \n",
            "> *   **Basket Bags**:\n",
            ">     *   \"Bag\" - In excellent condition from a pet and smock free home - [https://www.mercari.com/us/item/m42937091229](https://www.mercari.com/us/item/m42937091229)\n",
            ">     *   \"Easter Basket Bags 2pc 1 pack\" - Easter basket Bags, Size 22x25x4 - [https://www.mercari.com/us/item/m25497045083](https://www.mercari.com/us/item/m25497045083)\n",
            ">     *   \"BUJI BAHA Sea Grass Straw Tassel Crossbody Shoulder Bag Purse\" - Buji Baha straw crossbody bag. Bought for vacation but never used. Like new. - [https://www.mercari.com/us/item/m65325354360](https://www.mercari.com/us/item/m65325354360)\n",
            ">     *   \"Basket with makeup bags\" - Plastic basket with different size makeup bags - the navy blue bag does have a few stains on front - others in great condition - [https://www.mercari.com/us/item/m46522375633](https://www.mercari.com/us/item/m46522375633)\n",
            "> \n",
            "> *   **Mary Jane Shoes**:\n",
            ">     *   \"Mary Jane heels\" - Brand new never worn Mary Jane shoes - [https://www.mercari.com/us/item/m69817964806](https://www.mercari.com/us/item/m69817964806)\n",
            ">     *   \"Carel Patent Red Three Strap Mary Jane Pump Arriana\" - Patent leather, sleek shape, square heel, very thin sole, buckled straps, logo insole. IT size 39.5. - [https://www.mercari.com/us/item/m77277773420](https://www.mercari.com/us/item/m77277773420)\n",
            ">     *   \"Mary Jane Shoes\" - Mary Jane shoes. Worn a few times. In great shape. Size 8. - [https://www.mercari.com/us/item/m40247612310](https://www.mercari.com/us/item/m40247612310)\n",
            "==================================================\n"
          ]
        }
      ]
    },
    {
      "cell_type": "code",
      "source": [
        "await test_agent(\n",
        "        agent=style_coach_agent,\n",
        "        query=\"What should I wear for a 90s rock star music fest?\"\n",
        "    )"
      ],
      "metadata": {
        "id": "-aGHXLTwZAyC"
      },
      "execution_count": null,
      "outputs": []
    },
    {
      "cell_type": "markdown",
      "source": [
        "## Adding Multimodal Capability\n",
        "\n",
        "Now that our agent can handle complex text queries, the next logical step is to add **multimodal capabilities** by building the `InputAnalysisAgent`.\n",
        "\n",
        "***\n",
        "### Why This is the Next Step 📸\n",
        "\n",
        "Fashion is inherently visual. Users often start with an image—a photo of an outfit they saw, a screenshot from social media, or a picture of an item they already own. By enabling our agent to understand images, we make it dramatically more powerful and intuitive.\n",
        "\n",
        "This will unlock brand-new ways for users to interact with our Style Coach, such as:\n",
        "* \"What kind of shoes would go with this dress I own?\" (user uploads a photo of their dress)\n",
        "* \"Help me find a budget-friendly version of this influencer's outfit.\" (user uploads a screenshot)\n",
        "\n",
        "\n",
        "\n",
        "***\n",
        "### The Plan\n",
        "\n",
        "We'll follow a familiar pattern: build a new specialist agent and then teach our main agent how to delegate tasks to it.\n",
        "\n",
        "1.  **Define the `InputAnalysisAgent`:** This will be a new, highly specialized agent. Its only job is to receive an image and, using its multimodal model (like `gemini-1.5-flash`), return a structured text description (a JSON object) of the key item in the image, including its type, style, and color.\n",
        "\n",
        "2.  **Update the `StyleCoachAgent`:** We will upgrade our main agent to handle image inputs. This involves two changes:\n",
        "    * **Adding the New Tool:** We'll add the `InputAnalysisAgent` (wrapped in an `AgentTool`) to the `style_coach_agent`'s list of tools.\n",
        "    * **Updating the Instructions:** We'll add a new rule to its prompt, telling it: \"If the user's input contains an image, your very first step MUST be to call the `InputAnalysisAgent` to identify the item in the photo.\"\n",
        "\n",
        "This will create a new workflow where, for any multimodal query, the `style_coach_agent` will first get a detailed description of the image before proceeding with research or item searching.\n",
        "\n"
      ],
      "metadata": {
        "id": "xcZz-lTNatdA"
      }
    },
    {
      "cell_type": "markdown",
      "source": [
        "### How Text and Image Queries are Combined\n",
        "\n",
        "The text and image information are combined within the reasoning process of the main **`style_coach_agent`**. It doesn't just smash the text together; it synthesizes the information to form a complete picture of the user's goal.\n",
        "\n",
        "Think of it like a detective building a case file. 🕵️\n",
        "\n",
        "**Scenario:** The user uploads a photo of a silver necklace and asks, **\"What top should I wear with this for a formal event?\"**\n",
        "\n",
        "Here is the step-by-step workflow:\n",
        "\n",
        "1.  **Receiving the Evidence:** The `style_coach_agent` receives two pieces of evidence: the user's **text** and the **image**.\n",
        "\n",
        "2.  **Calling the Specialist:** Its instructions state that if there's an image, it MUST call the `InputAnalysisAgent` first. It sends the image to this specialist.\n",
        "\n",
        "3.  **Getting the Lab Report:** The `InputAnalysisAgent` returns its analysis as a structured JSON object:\n",
        "\n",
        "    > `{ \"item\": \"silver necklace\", \"style\": \"dainty, minimalist\", \"color\": \"silver\" }`\n",
        "\n",
        "4.  **Synthesizing the Case File:** The `style_coach_agent`'s underlying LLM now has a complete \"dossier\" on the user's request. It internally combines the information into a complete goal:\n",
        "\n",
        "    > \"The user needs to find a **top** that would look good with a **dainty, minimalist, silver necklace** for a **formal event**.\"\n",
        "\n",
        "5.  **Taking Action:** With this complete understanding, it can now make an intelligent decision. It recognizes \"formal event\" as a contextual query, so it will call the `TrendResearchAgent` with a very specific prompt like, \"Tops to wear with minimalist silver jewelry for formal events.\" The research results will then be used to call the `item_search_tool` for specific items like a \"black silk camisole\" or a \"satin high-neck blouse.\""
      ],
      "metadata": {
        "id": "bD2ECtkheuUl"
      }
    },
    {
      "cell_type": "markdown",
      "source": [
        "### Step 1 - Define the `InputAnalysisAgent`\n",
        "\n",
        "This is a new, highly focused agent. It has no tools of its own; its sole purpose is to use its powerful multimodal model (gemini-2.5-flash) to analyze an image and return a structured JSON description."
      ],
      "metadata": {
        "id": "jJXLYQ3YbJCZ"
      }
    },
    {
      "cell_type": "code",
      "source": [
        "# Define the instructions for the image analysis agent.\n",
        "analysis_instruction = f'''\n",
        "You are a specialist AI model that analyzes images of fashion items. Your\n",
        "only job is to identify the primary item in an image and return a\n",
        "structured JSON object describing it.\n",
        "\n",
        "- Your output MUST be only a single, valid JSON object.\n",
        "- Do not add any conversational text or preambles.\n",
        "\n",
        "The JSON object should contain the following keys:\n",
        "- \"item\": The type of item (e.g., \"leather jacket\", \"silver necklace\", \"ankle boots\").\n",
        "- \"style\": Descriptive keywords (e.g., \"vintage\", \"minimalist\", \"chunky\").\n",
        "- \"color\": The primary color of the item.\n",
        "\n",
        "Example Output:\n",
        "{{\n",
        "    \"item\": \"leather jacket\",\n",
        "    \"style\": \"vintage, bomber\",\n",
        "    \"color\": \"dark brown\"\n",
        "}}\n",
        "'''\n",
        "\n",
        "# Create the agent instance. It has no tools.\n",
        "input_analysis_agent = Agent(\n",
        "    model='gemini-2.5-flash',\n",
        "    name='InputAnalysisAgent',\n",
        "    description=(\n",
        "        'Analyzes an image of a clothing item and returns a structured JSON'\n",
        "        ' description of its type, style, and color.'\n",
        "    ),\n",
        "    instruction=analysis_instruction,\n",
        "    tools=[] # This agent is a specialist and needs no external tools.\n",
        ")\n",
        "\n",
        "print(\"✅ InputAnalysisAgent has been defined.\")"
      ],
      "metadata": {
        "colab": {
          "base_uri": "https://localhost:8080/"
        },
        "id": "z7sZ0mj5ZAvO",
        "outputId": "e0c250d4-cf85-4245-c78a-6fcab48ffcd2"
      },
      "execution_count": 20,
      "outputs": [
        {
          "output_type": "stream",
          "name": "stdout",
          "text": [
            "✅ InputAnalysisAgent has been defined.\n"
          ]
        }
      ]
    },
    {
      "cell_type": "markdown",
      "source": [
        "### Step 2: Update the `StyleCoachAgent` to Use It\n",
        "Now, we'll upgrade our main agent. We'll add the new InputAnalysisAgent to its toolset and, most importantly, update its instructions to include a new rule for handling image inputs."
      ],
      "metadata": {
        "id": "JXRrk-rjc7in"
      }
    },
    {
      "cell_type": "code",
      "source": [
        "# Update the main agent's instructions with a new rule for images.\n",
        "main_instruction = f'''\n",
        "You are an expert style coach. Your goal is to help users find clothes.\n",
        "You MUST follow a strict reasoning process based on the user's input.\n",
        "\n",
        "**Image Input Rule (HIGHEST PRIORITY):**\n",
        "If the user provides an image, your FIRST step, before anything else, is to\n",
        "call the `InputAnalysisAgent` to get a JSON description of the item.\n",
        "Then, use that description to inform the rest of your plan.\n",
        "\n",
        "**Style-Based Query Plan:**\n",
        "For queries mentioning a style, aesthetic, or event (e.g., 'cottagecore'):\n",
        "1.  Call the `TrendResearchAgent` to get a JSON object with a 'summary'\n",
        "    and a list of 'queries'.\n",
        "2.  Use ONLY the 'queries' list to call the `item_search_tool`.\n",
        "3.  Formulate a final response using the 'summary' for context and the\n",
        "    items you found.\n",
        "\n",
        "**Simple Query Plan:**\n",
        "For simple item requests (e.g., 'find a black leather jacket'), you can\n",
        "call the `item_search_tool` directly.\n",
        "\n",
        "**Final Response Generation:**\n",
        "Your final response to the user should be a friendly, conversational paragraph.\n",
        "First, use the 'summary' from your research (if you have one) to provide\n",
        "context and styling advice. Then, introduce the specific items you found.\n",
        "\n",
        "For each item you mention, present it by showing its **'name'**, **'description'** followed by its\n",
        "**'image_url'**. Do not use the regular item 'url' field.\n",
        "'''\n",
        "\n",
        "# Update the agent's definition to include the new tool.\n",
        "style_coach_agent = Agent(\n",
        "    model='gemini-2.5-flash',\n",
        "    name='StyleCoachAgent',\n",
        "    description='A conversational agent for secondhand fashion.',\n",
        "    instruction=main_instruction,\n",
        "    tools=[\n",
        "        item_search_tool,\n",
        "        AgentTool(agent=trend_research_agent),\n",
        "        AgentTool(agent=input_analysis_agent) # <-- Add the new agent here\n",
        "    ]\n",
        ")\n",
        "\n",
        "print(\"✅ style_coach_agent has been updated with multimodal capabilities.\")"
      ],
      "metadata": {
        "colab": {
          "base_uri": "https://localhost:8080/"
        },
        "id": "CoxYJyvRZAsg",
        "outputId": "083c379e-a4f9-4bd2-c3f9-46e45cdbf7ab"
      },
      "execution_count": 21,
      "outputs": [
        {
          "output_type": "stream",
          "name": "stdout",
          "text": [
            "✅ style_coach_agent has been updated with multimodal capabilities.\n"
          ]
        }
      ]
    },
    {
      "cell_type": "code",
      "source": [
        "await test_agent(\n",
        "    agent=style_coach_agent,\n",
        "    query=\"What should I wear with this scarf for a party?\",\n",
        "    image_path=\"/content/drive/MyDrive/Colab Notebooks/images/test_img2.jpeg\"\n",
        ")"
      ],
      "metadata": {
        "colab": {
          "base_uri": "https://localhost:8080/"
        },
        "id": "QC5uPYPgZApx",
        "outputId": "f5d95325-dbb4-456f-973e-1e82d75e1349"
      },
      "execution_count": 22,
      "outputs": [
        {
          "output_type": "stream",
          "name": "stdout",
          "text": [
            "\n",
            ">>> User Input: Query: 'What should I wear with this scarf for a party?' | Image: '/content/drive/MyDrive/Colab Notebooks/images/test_img2.jpeg'\n",
            "-----\n",
            "User queries: ['black party dress', 'cream sweater dress', 'dark green slip dress']\n",
            "Found: 9 items\n",
            "-----\n",
            "-----\n",
            "User queries: ['gold party dress', 'emerald green velvet dress', 'black satin jumpsuit']\n",
            "Found: 8 items\n",
            "-----\n",
            "\n",
            "==================================================\n",
            "✨ Your Styling Results ✨\n",
            "==================================================\n",
            "\n",
            "**Your question:**\n",
            "> Query: 'What should I wear with this scarf for a party?' | Image: '/content/drive/MyDrive/Colab Notebooks/images/test_img2.jpeg'\n",
            "\n",
            "**Agent's response:**\n",
            "> For a party, you can make your beautiful chunky knit terracotta scarf a statement piece by pairing it with contrasting textures and colors. The warmth of the terracotta will pop against richer, deeper tones or sparkling metallics.\n",
            "> \n",
            "> Here are some fantastic options to wear with your scarf for a party:\n",
            "> \n",
            "> **Black and Gold Party Dress**\n",
            "> description: Black and Gold Party Dress. Stretchy Cotton. Size XL\n",
            "> image_url: https://u-mercari-images.mercdn.net/photos/m17857820431_1.jpg?w=200&h=200&fitcrop&sharpen\n",
            "> \n",
            "> **Emerald Green Formal Dress**\n",
            "> description: Velvet Emerald Green Formal Dress Size 10 Never been worn\n",
            "> image_url: https://u-mercari-images.mercdn.net/photos/m22520843669_1.jpg?w=200&h=200&fitcrop&sharpen\n",
            "> \n",
            "> **Black jumpsuit**\n",
            "> description: Black jumpsuit Size(s): S, M Color(s): Black Black jumpsuit all black Excellent condition Not see through I ship same or next\n",
            "> image_url: https://u-mercari-images.mercdn.net/photos/m95868988618_1.jpg?w=200&h=200&fitcrop&sharpen\n",
            "==================================================\n"
          ]
        }
      ]
    },
    {
      "cell_type": "code",
      "source": [
        "await test_agent(\n",
        "    agent=style_coach_agent,\n",
        "    query=\"What should I wear with this watch for a party?\",\n",
        "    image_path=\"/content/drive/MyDrive/Colab Notebooks/images/test_img4.webp\"\n",
        ")"
      ],
      "metadata": {
        "id": "eFndTdTVZAnI"
      },
      "execution_count": null,
      "outputs": []
    },
    {
      "cell_type": "code",
      "source": [
        "await test_agent(\n",
        "    agent=style_coach_agent,\n",
        "    query=\"\",\n",
        "    image_path=\"/content/drive/MyDrive/Colab Notebooks/images/test_img3.jpg\"\n",
        ")"
      ],
      "metadata": {
        "id": "9srl1pqFZAj3"
      },
      "execution_count": null,
      "outputs": []
    },
    {
      "cell_type": "markdown",
      "source": [
        "\n",
        "## What's Next: Adding a Creative Stylist\n",
        "\n",
        "To elevate our agent from a smart shopper to a true stylist, we'll introduce a **`Styling & Reasoning Agent`**. This creative specialist will act as the team's \"creative director.\" Its job is to take a list of found items—like tops, pants, and shoes—and intelligently assemble them into 1-3 complete, curated outfits, making the final output far more useful.\n"
      ],
      "metadata": {
        "id": "-IqHrIeu3m06"
      }
    },
    {
      "cell_type": "code",
      "source": [
        "# Step 1: Create the Styling & Reasoning Agent (The Creative)\n",
        "styling_instruction = '''\n",
        "You are a creative fashion expert and styling specialist. Your job is to take\n",
        "structured fashion data and create complete, curated outfits with detailed\n",
        "explanations.\n",
        "\n",
        "**Input Format Expected:**\n",
        "You will receive a JSON object with this EXACT structure:\n",
        "{\n",
        "    \"user_query\": \"original user request\",\n",
        "    \"image_analysis\": {...} or null,\n",
        "    \"style_context\": \"trend research summary\",\n",
        "    \"available_items\": [\n",
        "        {\n",
        "            \"id\": \"item_id\",\n",
        "            \"name\": \"item_name\",\n",
        "            \"description\": \"item_description\",\n",
        "            \"price\": \"item_price\",\n",
        "            \"category\": \"item_category\",\n",
        "            \"image_url\": \"item_image_url\"\n",
        "        }\n",
        "    ]\n",
        "}\n",
        "\n",
        "**Your Task:**\n",
        "1. Analyze the user's needs based on their query and any image analysis\n",
        "2. Use the style context to understand the aesthetic direction\n",
        "3. From the available_items, curate 2-3 complete outfit combinations\n",
        "4. Provide detailed styling explanations for each outfit\n",
        "\n",
        "**Output Format:**\n",
        "Present your response as natural text (not JSON). For each outfit:\n",
        "\n",
        "1. Start with a brief styling summary\n",
        "2. Present each outfit with:\n",
        "   - **Outfit Name**: Descriptive title\n",
        "   - **Items**: For each item, show: **Name** (id), **Description**, **Image**: [image_url]\n",
        "   - **Styling Rationale**: Detailed explanation of why this combination works\n",
        "3. End with general styling tips\n",
        "\n",
        "**CRITICAL**: Always include the image_url for every item using this exact format:\n",
        "**Image**: [actual_image_url_here]\n",
        "\n",
        "Example format:\n",
        "**Classic Grunge Look**\n",
        "* **Band T-Shirt** (id: m123): Vintage Nirvana tee with authentic wear\n",
        "  **Image**: [https://example.com/image.jpg]\n",
        "* **Distressed Jeans** (id: m456): High-waisted with strategic rips\n",
        "  **Image**: [https://example.com/jeans.jpg]\n",
        "\n",
        "IMPORTANT:\n",
        "- Only use items from the provided available_items list\n",
        "- Do not call any other agents or tools\n",
        "- Focus on creating cohesive, wearable outfits\n",
        "- Explain your fashion choices clearly\n",
        "'''\n",
        "\n",
        "styling_reasoning_agent = Agent(\n",
        "    model='gemini-2.5-flash',\n",
        "    name='StylingReasoningAgent',\n",
        "    description=(\n",
        "        'A creative fashion expert that assembles complete outfits from '\n",
        "        'available items and provides detailed styling explanations.'\n",
        "    ),\n",
        "    instruction=styling_instruction,\n",
        "    tools=[]  # This agent should not call other tools\n",
        ")\n",
        "\n",
        "print(\"✅ StylingReasoningAgent has been created.\")\n"
      ],
      "metadata": {
        "colab": {
          "base_uri": "https://localhost:8080/"
        },
        "id": "2iHPPMtL-vaO",
        "outputId": "baa723b2-06c2-40c9-ffb1-7d5044f200b8"
      },
      "execution_count": 33,
      "outputs": [
        {
          "output_type": "stream",
          "name": "stdout",
          "text": [
            "✅ StylingReasoningAgent has been created.\n"
          ]
        }
      ]
    },
    {
      "cell_type": "code",
      "source": [
        "# Step 2: Update the StyleCoachAgent with optimized workflow logic and EXACT format matching\n",
        "updated_main_instruction = '''\n",
        "You are a style coach coordinator. Analyze the user's request type and choose\n",
        "the most efficient workflow path.\n",
        "\n",
        "**REQUEST TYPE CLASSIFICATION:**\n",
        "\n",
        "**Type A - Direct Item Requests:**\n",
        "- Simple queries like \"find black boots\", \"show me leather jackets\"\n",
        "- Image-only uploads (no text query)\n",
        "- Skip trend research, go directly to item search\n",
        "\n",
        "**Type B - Style/Context Requests:**\n",
        "- Queries mentioning styles, aesthetics, events, occasions\n",
        "- Examples: \"cottagecore outfit\", \"rock concert look\", \"formal dinner attire\"\n",
        "- Requires trend research for context\n",
        "\n",
        "**Type C - Styling Help Requests:**\n",
        "- Text + image combinations asking for styling advice\n",
        "- Examples: \"what goes with this jacket?\", \"complete this outfit\"\n",
        "- Needs image analysis + targeted search\n",
        "\n",
        "**WORKFLOW PATHS:**\n",
        "\n",
        "**Path A (Direct Requests):**\n",
        "1. If image provided → call InputAnalysisAgent\n",
        "2. Create targeted search queries based on image analysis or direct request\n",
        "3. Call item_search_tool with specific queries\n",
        "4. Pass results to StylingReasoningAgent for curation\n",
        "5. Present final recommendations\n",
        "\n",
        "**Path B (Style Research Needed):**\n",
        "1. If image provided → call InputAnalysisAgent\n",
        "2. Call TrendResearchAgent for style context and search queries\n",
        "3. Call item_search_tool with queries from research\n",
        "4. Pass all data to StylingReasoningAgent\n",
        "5. Present final recommendations\n",
        "\n",
        "**Path C (Combination Requests):**\n",
        "1. Call InputAnalysisAgent for image analysis\n",
        "2. Based on user query, decide if trend research is needed\n",
        "3. Call item_search_tool with appropriate queries\n",
        "4. Pass structured data to StylingReasoningAgent\n",
        "5. Present final recommendations\n",
        "\n",
        "**CRITICAL: Data Format for StylingReasoningAgent**\n",
        "You MUST pass this EXACT JSON structure with EXACT field names:\n",
        "{\n",
        "    \"user_query\": \"original user request\",\n",
        "    \"image_analysis\": {image analysis object or null},\n",
        "    \"style_context\": \"context from research or your interpretation\",\n",
        "    \"available_items\": [\n",
        "        {\n",
        "            \"id\": \"item_id\",\n",
        "            \"name\": \"item_name\",\n",
        "            \"description\": \"item_description\",\n",
        "            \"price\": \"item_price\",\n",
        "            \"category\": \"item_category\",\n",
        "            \"image_url\": \"use image_url field from search results NOT url field\"\n",
        "        }\n",
        "    ]\n",
        "}\n",
        "\n",
        "**CRITICAL IMAGE URL HANDLING:**\n",
        "- When processing items from item_search_tool, always use the \"image_url\" field\n",
        "- NEVER use \"url\" field - use \"image_url\" field only\n",
        "- If an item has no \"image_url\" field, set it to null\n",
        "- Example transformation:\n",
        "  From search: {\"url\": \"broken_link\", \"image_url\": \"working_link\"}\n",
        "  Send to styling agent: {\"image_url\": \"working_link\"}\n",
        "\n",
        "**EFFICIENCY RULES:**\n",
        "- Don't call TrendResearchAgent for simple item searches\n",
        "- Don't over-research obvious requests\n",
        "- Always end with StylingReasoningAgent for consistent formatting\n",
        "- Each specialist agent should only be called once per request\n",
        "- Ensure exact JSON format matching between agents\n",
        "'''\n",
        "\n",
        "# Create the updated StyleCoachAgent\n",
        "updated_style_coach_agent = Agent(\n",
        "    model='gemini-2.5-flash',\n",
        "    name='StyleCoachAgent',\n",
        "    description='Coordinates the styling team and manages the overall workflow.',\n",
        "    instruction=updated_main_instruction,\n",
        "    tools=[\n",
        "        item_search_tool,\n",
        "        AgentTool(agent=trend_research_agent),\n",
        "        AgentTool(agent=input_analysis_agent),\n",
        "        AgentTool(agent=styling_reasoning_agent)  # Add the new agent\n",
        "    ]\n",
        ")\n",
        "\n",
        "print(\"✅ StyleCoachAgent has been updated with proper workflow management.\")\n"
      ],
      "metadata": {
        "colab": {
          "base_uri": "https://localhost:8080/"
        },
        "id": "wMJWr2pp-u_W",
        "outputId": "fbe44d1d-5b2b-4021-fb42-f0ba4824b991"
      },
      "execution_count": 34,
      "outputs": [
        {
          "output_type": "stream",
          "name": "stdout",
          "text": [
            "✅ StyleCoachAgent has been updated with proper workflow management.\n"
          ]
        }
      ]
    },
    {
      "cell_type": "code",
      "source": [
        "# Step 3: Update the test_agent function to generate improved markdown reports\n",
        "import pathlib\n",
        "from datetime import datetime\n",
        "\n",
        "async def test_agent_with_report(\n",
        "    agent,\n",
        "    query: str | None = None,\n",
        "    image_path: str | None = None,\n",
        "):\n",
        "    \"\"\"Sends a text query and/or an image to the agent and generates a styled report.\"\"\"\n",
        "\n",
        "    if not query and not image_path:\n",
        "        print(\"Error: Please provide a text query or an image path.\")\n",
        "        return\n",
        "\n",
        "    # Build a list of parts for the user's message\n",
        "    parts = []\n",
        "    log_display = \"\"\n",
        "    if query:\n",
        "        parts.append(types.Part(text=query))\n",
        "        log_display += f\"Query: '{query}'\"\n",
        "    if image_path:\n",
        "        img = pathlib.Path(image_path)\n",
        "        if not img.exists():\n",
        "            print(f\"Error: Image file not found at {image_path}\")\n",
        "            return\n",
        "\n",
        "        # Create an image part from the file path\n",
        "        image_part = types.Part(\n",
        "            inline_data=types.Blob(\n",
        "                mime_type=\"image/jpeg\",\n",
        "                data=img.read_bytes(),\n",
        "            )\n",
        "        )\n",
        "        parts.append(image_part)\n",
        "        log_display += f\" | Image: '{image_path}'\"\n",
        "\n",
        "    print(f\"\\n>>> User Input: {log_display.strip()}\")\n",
        "\n",
        "    # Create a session\n",
        "    session = await session_service.create_session(\n",
        "      app_name=APP_NAME,\n",
        "      user_id=USER_ID,\n",
        "    )\n",
        "\n",
        "    # Create a Runner\n",
        "    runner = Runner(\n",
        "        app_name=APP_NAME,\n",
        "        agent=agent,\n",
        "        session_service=session_service,\n",
        "    )\n",
        "\n",
        "    # Prepare the user's message with all parts\n",
        "    content = types.Content(role=\"user\", parts=parts)\n",
        "\n",
        "    final_response_text = None\n",
        "    # We iterate through events from run_async to find the final answer.\n",
        "    async for event in runner.run_async(\n",
        "        user_id=USER_ID, session_id=session.id, new_message=content\n",
        "    ):\n",
        "        if event.is_final_response():\n",
        "            if event.content and event.content.parts:\n",
        "                final_response_text = event.content.parts[0].text\n",
        "            break\n",
        "\n",
        "    # Generate improved markdown report\n",
        "    print(\"\\n\" + \"=\"*70)\n",
        "    print(\"🎨 PERSONAL STYLING REPORT\")\n",
        "    print(\"=\"*70)\n",
        "    print()\n",
        "\n",
        "    print(\"## 📝 Your Request\")\n",
        "    print(f\"{log_display.strip()}\")\n",
        "    print()\n",
        "\n",
        "    print(\"## ✨ Styling Recommendations\")\n",
        "    if final_response_text:\n",
        "        # Clean and format the response with better spacing\n",
        "        lines = final_response_text.split('\\n')\n",
        "        formatted_lines = []\n",
        "\n",
        "        for i, line in enumerate(lines):\n",
        "            stripped_line = line.strip()\n",
        "            if not stripped_line:\n",
        "                continue\n",
        "\n",
        "            # Add proper spacing around sections\n",
        "            if stripped_line.startswith('**') and stripped_line.endswith('**') and len(stripped_line) > 4:\n",
        "                # This is likely a section header\n",
        "                if formatted_lines:  # Add space before new sections (except first)\n",
        "                    formatted_lines.append(\"\")\n",
        "                formatted_lines.append(f\"### {stripped_line.strip('*')}\")\n",
        "                formatted_lines.append(\"\")\n",
        "            elif stripped_line.startswith('*'):\n",
        "                # This is a bullet point\n",
        "                formatted_lines.append(stripped_line)\n",
        "            elif 'Image]:' in stripped_line:\n",
        "                # This is an image URL line - format it better\n",
        "                formatted_lines.append(f\"  {stripped_line}\")\n",
        "            else:\n",
        "                # Regular text\n",
        "                formatted_lines.append(stripped_line)\n",
        "\n",
        "        formatted_response = '\\n'.join(formatted_lines)\n",
        "        print(formatted_response)\n",
        "    else:\n",
        "        print(\"No styling recommendations were generated.\")\n",
        "\n",
        "    print()\n",
        "    print(\"## 📊 Report Details\")\n",
        "    current_time = datetime.now()\n",
        "    print(f\"**Generated:** {current_time.strftime('%B %d, %Y at %I:%M %p')}\")\n",
        "    print(f\"**Agent:** Multi-Agent Style Coach\")\n",
        "    print()\n",
        "    print(\"=\"*70)\n",
        "\n",
        "# Step 4: Create a simple test function that uses the original format for compatibility\n",
        "async def test_enhanced_agent(\n",
        "    query: str | None = None,\n",
        "    image_path: str | None = None,\n",
        "):\n",
        "    \"\"\"Test the enhanced multi-agent system with better formatting.\"\"\"\n",
        "    await test_agent_with_report(\n",
        "        agent=updated_style_coach_agent,\n",
        "        query=query,\n",
        "        image_path=image_path\n",
        "    )"
      ],
      "metadata": {
        "id": "btbeb4d4-u6a"
      },
      "execution_count": 35,
      "outputs": []
    },
    {
      "cell_type": "code",
      "source": [
        "await test_enhanced_agent(query=\"What should I wear for a 90s rock concert?\")"
      ],
      "metadata": {
        "colab": {
          "base_uri": "https://localhost:8080/"
        },
        "collapsed": true,
        "id": "0zgxBwKv_YY7",
        "outputId": "4c5736f9-482c-401e-e431-9bdc4a686231"
      },
      "execution_count": 36,
      "outputs": [
        {
          "output_type": "stream",
          "name": "stdout",
          "text": [
            "\n",
            ">>> User Input: Query: 'What should I wear for a 90s rock concert?'\n",
            "-----\n",
            "User queries: ['oversized vintage band t-shirt', 'distressed high-waisted straight-leg jeans', 'plaid flannel shirt', 'black chunky combat boots', 'faux leather moto jacket']\n",
            "Found: 15 items\n",
            "-----\n",
            "\n",
            "======================================================================\n",
            "🎨 PERSONAL STYLING REPORT\n",
            "======================================================================\n",
            "\n",
            "## 📝 Your Request\n",
            "Query: 'What should I wear for a 90s rock concert?'\n",
            "\n",
            "## ✨ Styling Recommendations\n",
            "Get ready to channel your inner rock star for the 90s concert! The key to nailing this aesthetic is all about effortless cool, rebellious vibes, and comfortable, lived-in pieces. Think grunge, band tees, distressed denim, and sturdy footwear. Here are a few curated outfits to get you into the spirit of the decade.\n",
            "---\n",
            "### **Outfit 1: The Iconic Grunge Rocker**\n",
            "This outfit embraces the quintessential 90s grunge look, perfect for a concert. It's relaxed, cool, and pays homage to a true legend.\n",
            "*   **Kurt Cobain shirt** (id: m66302694307): Over size, One size, Never worn, No tags, Unisex\n",
            "**Image**: [https://u-mercari-images.mercdn.net/photos/m66302694307_1.jpg?w=200&h=200&fitcrop&sharpen]\n",
            "*   **PacSun jeans** (id: m70938223123): Black high waisted straight leg distressed jeans\n",
            "**Image**: [https://u-mercari-images.mercdn.net/photos/m70938223123_1.jpg?w=200&h=200&fitcrop&sharpen]\n",
            "*   **American Eagle Outfitters Ahhmazingly Soft Red Plaid Slim Fit Flannel Womens M** (id: m46321219730): Excellent condition super soft flannel. Size Medium but measurements taken flat are approximately 18” across chest, 26” long.\n",
            "**Image**: [https://u-mercari-images.mercdn.net/photos/m46321219730_1.jpg?w=200&h=200&fitcrop&sharpen]\n",
            "*   **NEW Steve Madden \"Basille\" Platform Lace-Up Ankle Booties Black Grunge Punk 90s** (id: m19327024478): A chunky platform grounds a vegan leather lace-up boot inspired by 90's style\n",
            "**Image**: [https://u-mercari-images.mercdn.net/photos/m19327024478_1.jpg?w=200&h=200&fitcrop&sharpen]\n",
            "**Styling Rationale**:\n",
            "The oversized Kurt Cobain shirt immediately sets a grunge tone, embodying the anti-fashion sentiment of the era. Pairing it with black, high-waisted distressed straight-leg jeans from PacSun adds the necessary edge and comfort, allowing for movement during the concert. The red plaid flannel is a quintessential 90s layering piece – you can wear it open over the tee, or for true grunge authenticity, tie it around your waist. The Steve Madden \"Basille\" platform lace-up ankle booties perfectly complete the look, providing both height and that iconic chunky footwear favored by 90s rock fans. This outfit is all about being effortlessly cool and ready for a mosh pit (or just head-banging from a safe distance!).\n",
            "---\n",
            "### **Outfit 2: Edgy Band Merch Vibe**\n",
            "This ensemble offers a slightly tougher, more \"rocker\" edge while still maintaining the comfort and casualness crucial for a concert.\n",
            "*   **AC DC T-Shirt Men's XL Short Sleeve High Voltage Graphic Crew Neck Black** (id: m42315381339): Used Condition, Reprint Not Vintage, Washed and Ready To Wear!\n",
            "**Image**: [https://u-mercari-images.mercdn.net/photos/m42315381339_1.jpg?w=200&h=200&fitcrop&sharpen]\n",
            "*   **straight wide leg jeans** (id: m26901107514): Distressed straight leg high waisted denim\n",
            "**Image**: [https://u-mercari-images.mercdn.net/photos/m26901107514_1.jpg?w=200&h=200&fitcrop&sharpen]\n",
            "*   **New York & Co | 100% PU Leather Moto Jacket | Size Medium** (id: m66062807034): This vegan leather jacket is in perfect condition. zippers and buttons are in working order.\n",
            "**Image**: [https://u-mercari-images.mercdn.net/photos/m66062807034_1.jpg?w=200&h=200&fitcrop&sharpen]\n",
            "*   **Combat Boots** (id: m68123367227): black combat boots- size 7\n",
            "**Image**: [https://u-mercari-images.mercdn.net/photos/m68123367227_1.jpg?w=200&h=200&fitcrop&sharpen]\n",
            "**Styling Rationale**:\n",
            "Starting with the classic AC/DC band tee, this outfit immediately signals a rock concert readiness. The distressed straight wide leg jeans provide a comfortable, relaxed fit that's key to 90s style, offering a slightly lighter wash alternative to black denim. Layering with the New York & Co PU leather moto jacket adds a cool, tough exterior, perfect for cooler concert venues or just for that classic rocker attitude. Finally, the black combat boots are non-negotiable for a 90s rock concert – they're practical, comfortable for standing, and undeniably stylish for the genre. This combination balances classic band merch with edgy outerwear for a confident concert look.\n",
            "---\n",
            "### **Outfit 3: Relaxed Oversized Aesthetic**\n",
            "For those who prioritize ultimate comfort and a more understated grunge look, this outfit leans into the oversized silhouettes prevalent in the 90s.\n",
            "*   **NWT H&M Oversized Shirt** (id: m92927917541): NWT Oversized Shirt, 100% COTTON.\n",
            "**Image**: [https://u-mercari-images.mercdn.net/photos/m92927917541_1.jpg?w=200&h=200&fitcrop&sharpen]\n",
            "*   **Wide leg jeans** (id: m58155372433): Garage Denim Jambe Large Wide Leg, Size 5, 27 in\n",
            "**Image**: [https://u-mercari-images.mercdn.net/photos/m58155372433_1.jpg?w=200&h=200&fitcrop&sharpen]\n",
            "*   **Flannel** (id: m12453967273): Blue plaid flannel in Size medium\n",
            "**Image**: [https://u-mercari-images.mercdn.net/photos/m12453967273_1.jpg?w=200&h=200&fitcrop&sharpen]\n",
            "*   **Steve Madden Women Betty Combat Boots Black Faux Leather Platform Lace Up 10** (id: m12991316863): Features: 100% synthetic, 1.25\" platform, chunky lug sole, flatform, round toe, heel tab\n",
            "**Image**: [https://u-mercari-images.mercdn.net/photos/m12991316863_1.jpg?w=200&h=200&fitcrop&sharpen]\n",
            "**Styling Rationale**:\n",
            "This outfit prioritizes comfort with an oversized H&M shirt, perfect for a relaxed vibe or if you want to emphasize the roomy silhouettes common in 90s fashion. Paired with wide-leg jeans, the look is effortlessly cool and casual, allowing for unrestricted movement. The blue plaid flannel offers a pop of color and can be worn open for a laid-back feel, or tied around the waist as a classic grunge accessory, adding an extra layer of style without being too warm indoors. Finishing with Steve Madden Betty Combat Boots ties the whole look together, providing the essential chunky footwear that defines 90s punk and grunge, while also being durable for a concert environment.\n",
            "---\n",
            "\n",
            "### General Styling Tips for a 90s Rock Concert:\n",
            "\n",
            "*   **Layering is Key:** Flannel shirts are incredibly versatile. Wear them, tie them around your waist, or layer them under a jacket.\n",
            "*   **Comfort is Paramount:** You'll be standing, possibly dancing, so choose comfortable shoes and clothing that allows for movement.\n",
            "*   **Distressed Details:** Rips, tears, and faded washes on denim enhance the authentic grunge feel.\n",
            "*   **Accessorize Simply:** A simple chain necklace, a beanie, or a chunky wristband can add to the aesthetic without overdoing it.\n",
            "*   **Hair & Makeup:** Think messy, undone hair or dark, smudgy eyeliner for an extra touch of 90s rock chic.\n",
            "\n",
            "## 📊 Report Details\n",
            "**Generated:** September 18, 2025 at 06:31 PM\n",
            "**Agent:** Enhanced Multi-Agent Style Coach\n",
            "**Session:** 1f874d9f...\n",
            "\n",
            "======================================================================\n"
          ]
        }
      ]
    },
    {
      "cell_type": "code",
      "source": [
        "test_enhanced_agent(query=\"What should I wear for a 80s rock concert?\")"
      ],
      "metadata": {
        "colab": {
          "base_uri": "https://localhost:8080/"
        },
        "id": "IzF9mhu6E5Yx",
        "outputId": "8f582c28-4808-4dd6-e884-0d8ed8118204"
      },
      "execution_count": 32,
      "outputs": [
        {
          "output_type": "execute_result",
          "data": {
            "text/plain": [
              "<coroutine object test_enhanced_agent at 0x7d5d8e63aea0>"
            ]
          },
          "metadata": {},
          "execution_count": 32
        }
      ]
    },
    {
      "cell_type": "code",
      "source": [
        "print('await test_enhanced_agent(query=\"What should I wear for a rock concert?\")')\n",
        "print('await test_enhanced_agent(query=\"Style this item\", image_path=\"path/to/image.jpg\")')"
      ],
      "metadata": {
        "id": "yOlcO7b2-uyg"
      },
      "execution_count": null,
      "outputs": []
    }
  ]
}